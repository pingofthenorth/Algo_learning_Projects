{
 "cells": [
  {
   "cell_type": "markdown",
   "metadata": {},
   "source": [
    "## Support Vector Machines\n",
    "### Simple Classification on the Iris Dataset"
   ]
  },
  {
   "cell_type": "code",
   "execution_count": 1,
   "metadata": {},
   "outputs": [],
   "source": [
    "import numpy as np\n",
    "from sklearn import datasets\n",
    "from sklearn.preprocessing import StandardScaler\n",
    "from sklearn.svm import LinearSVC"
   ]
  },
  {
   "cell_type": "code",
   "execution_count": 2,
   "metadata": {},
   "outputs": [],
   "source": [
    "iris = datasets.load_iris()\n",
    "X = iris[\"data\"][:, (2, 3)] # petal length, petal width\n",
    "y = (iris[\"target\"] == 2).astype(np.float64) # Iris-Virginica"
   ]
  },
  {
   "cell_type": "code",
   "execution_count": 3,
   "metadata": {},
   "outputs": [],
   "source": [
    "std_scaler = StandardScaler()\n",
    "X_scaled = std_scaler.fit_transform(X)"
   ]
  },
  {
   "cell_type": "code",
   "execution_count": 4,
   "metadata": {},
   "outputs": [
    {
     "data": {
      "text/plain": [
       "LinearSVC(C=1, loss='hinge', random_state=42)"
      ]
     },
     "execution_count": 4,
     "metadata": {},
     "output_type": "execute_result"
    }
   ],
   "source": [
    "svm_clf = LinearSVC(C=1, loss=\"hinge\", random_state=42)\n",
    "svm_clf.fit(X_scaled, y)"
   ]
  },
  {
   "cell_type": "code",
   "execution_count": 5,
   "metadata": {},
   "outputs": [],
   "source": [
    "preds = svm_clf.predict(X_scaled)"
   ]
  },
  {
   "cell_type": "code",
   "execution_count": 6,
   "metadata": {},
   "outputs": [
    {
     "data": {
      "text/plain": [
       "array([[98,  2],\n",
       "       [ 4, 46]])"
      ]
     },
     "execution_count": 6,
     "metadata": {},
     "output_type": "execute_result"
    }
   ],
   "source": [
    "from sklearn.metrics import confusion_matrix\n",
    "confusion_matrix(y, preds)"
   ]
  },
  {
   "cell_type": "markdown",
   "metadata": {},
   "source": [
    "### Looking at the full iris dataset"
   ]
  },
  {
   "cell_type": "code",
   "execution_count": 7,
   "metadata": {},
   "outputs": [
    {
     "data": {
      "text/plain": [
       "array([[97,  3],\n",
       "       [ 1, 49]])"
      ]
     },
     "execution_count": 7,
     "metadata": {},
     "output_type": "execute_result"
    }
   ],
   "source": [
    "X = iris[\"data\"]\n",
    "X_scaled = std_scaler.fit_transform(X)\n",
    "svm_clf.fit(X_scaled, y)\n",
    "preds = svm_clf.predict(X_scaled)\n",
    "confusion_matrix(y, preds)"
   ]
  },
  {
   "cell_type": "markdown",
   "metadata": {},
   "source": [
    "### Classifying non-linear data using polynomial features"
   ]
  },
  {
   "cell_type": "code",
   "execution_count": 8,
   "metadata": {},
   "outputs": [
    {
     "name": "stderr",
     "output_type": "stream",
     "text": [
      "/opt/anaconda3/lib/python3.8/site-packages/sklearn/svm/_base.py:976: ConvergenceWarning: Liblinear failed to converge, increase the number of iterations.\n",
      "  warnings.warn(\"Liblinear failed to converge, increase \"\n"
     ]
    },
    {
     "data": {
      "text/plain": [
       "array([[99,  1],\n",
       "       [ 1, 49]])"
      ]
     },
     "execution_count": 8,
     "metadata": {},
     "output_type": "execute_result"
    }
   ],
   "source": [
    "from sklearn.preprocessing import PolynomialFeatures\n",
    "poly_features = PolynomialFeatures(degree=4, include_bias=False) # 4th seems to give best results...\n",
    "X_poly = poly_features.fit_transform(X)\n",
    "X_poly_scaled = std_scaler.fit_transform(X_poly)\n",
    "poly_svm_clf = LinearSVC(C=10, loss=\"hinge\", random_state=42) # Can also investigate values of C\n",
    "poly_svm_clf.fit(X_poly_scaled, y)\n",
    "polypreds = poly_svm_clf.predict(X_poly_scaled)\n",
    "confusion_matrix(y, polypreds)"
   ]
  },
  {
   "cell_type": "markdown",
   "metadata": {},
   "source": [
    "### Using a polynomial kernel"
   ]
  },
  {
   "cell_type": "code",
   "execution_count": 9,
   "metadata": {},
   "outputs": [
    {
     "data": {
      "text/plain": [
       "array([[100,   0],\n",
       "       [  0,  50]])"
      ]
     },
     "execution_count": 9,
     "metadata": {},
     "output_type": "execute_result"
    }
   ],
   "source": [
    "X = iris[\"data\"]\n",
    "X_scaled = std_scaler.fit_transform(X)\n",
    "# Create a classifier with a polynomial kernel and fit this to the data\n",
    "from sklearn.svm import SVC\n",
    "poly_k_svm_clf = SVC(kernel=\"poly\", degree=7, coef0=1, C=5) # degree 7 gives a perfect classifier!\n",
    "poly_k_svm_clf.fit(X_scaled, y)\n",
    "poly_k_preds = poly_k_svm_clf.predict(X_scaled)\n",
    "confusion_matrix(y, poly_k_preds)"
   ]
  },
  {
   "cell_type": "markdown",
   "metadata": {},
   "source": [
    "### Using a Radial Basis Function (RBF) kernel"
   ]
  },
  {
   "cell_type": "code",
   "execution_count": 10,
   "metadata": {},
   "outputs": [
    {
     "data": {
      "text/plain": [
       "array([[100,   0],\n",
       "       [  0,  50]])"
      ]
     },
     "execution_count": 10,
     "metadata": {},
     "output_type": "execute_result"
    }
   ],
   "source": [
    "rbf_svm_clf = SVC(kernel=\"rbf\", gamma=5, C=1) # Can also explore values of gamma and C - C in particular - ones from lecture work terribly!\n",
    "rbf_svm_clf.fit(X_scaled, y)\n",
    "rbf_preds = rbf_svm_clf.predict(X_scaled)\n",
    "confusion_matrix(y, rbf_preds)"
   ]
  },
  {
   "cell_type": "markdown",
   "metadata": {},
   "source": [
    "### Multi-Class Classification using SVMs"
   ]
  },
  {
   "cell_type": "code",
   "execution_count": 11,
   "metadata": {},
   "outputs": [
    {
     "data": {
      "text/plain": [
       "array([[15,  0,  0],\n",
       "       [ 1, 15,  2],\n",
       "       [ 0,  4,  8]])"
      ]
     },
     "execution_count": 11,
     "metadata": {},
     "output_type": "execute_result"
    }
   ],
   "source": [
    "from sklearn.model_selection import train_test_split\n",
    "wX, wy = datasets.load_wine(return_X_y=True)\n",
    "wX_train_set, wX_test_set, wy_train_set, wy_test_set = train_test_split(wX, wy, test_size=0.25, random_state=42)\n",
    "from sklearn.multiclass import OneVsRestClassifier\n",
    "# ovr_svc_clf = OneVsRestClassifier(SVC(kernel=\"rbf\", gamma=5, C=1)) # e.g. does badly\n",
    "ovr_svc_clf = OneVsRestClassifier(SVC(kernel=\"poly\", degree=7, coef0=1, C=5)) # e.g. does better\n",
    "ovr_svc_clf.fit(wX_train_set, wy_train_set)\n",
    "wine_preds = ovr_svc_clf.predict(wX_test_set)\n",
    "confusion_matrix(wy_test_set, wine_preds)"
   ]
  },
  {
   "cell_type": "markdown",
   "metadata": {},
   "source": [
    "### SVM Regression"
   ]
  },
  {
   "cell_type": "code",
   "execution_count": 12,
   "metadata": {},
   "outputs": [
    {
     "name": "stderr",
     "output_type": "stream",
     "text": [
      "/opt/anaconda3/lib/python3.8/site-packages/sklearn/svm/_base.py:976: ConvergenceWarning: Liblinear failed to converge, increase the number of iterations.\n",
      "  warnings.warn(\"Liblinear failed to converge, increase \"\n"
     ]
    },
    {
     "data": {
      "text/plain": [
       "9.769916435215908"
      ]
     },
     "execution_count": 12,
     "metadata": {},
     "output_type": "execute_result"
    }
   ],
   "source": [
    "bX, by = datasets.load_boston(return_X_y=True)\n",
    "bXtrain, bXtest, bytrain, bytest = train_test_split(bX, by, test_size=0.2, random_state=42)\n",
    "from sklearn.svm import LinearSVR\n",
    "svm_reg = LinearSVR(epsilon=8, random_state=42) # Can explore impact of epsilon\n",
    "svm_reg.fit(bXtrain, bytrain)\n",
    "boston_train_preds = svm_reg.predict(bXtrain) # Check fit\n",
    "from sklearn.metrics import mean_squared_error\n",
    "lin_mse = mean_squared_error(bytrain, boston_train_preds)\n",
    "lin_rmse = np.sqrt(lin_mse)\n",
    "lin_rmse"
   ]
  },
  {
   "cell_type": "code",
   "execution_count": 13,
   "metadata": {},
   "outputs": [
    {
     "data": {
      "text/plain": [
       "10.620721705196468"
      ]
     },
     "execution_count": 13,
     "metadata": {},
     "output_type": "execute_result"
    }
   ],
   "source": [
    "# Check on test set\n",
    "boston_test_preds = svm_reg.predict(bXtest)\n",
    "lin_mse = mean_squared_error(bytest, boston_test_preds)\n",
    "lin_rmse = np.sqrt(lin_mse)\n",
    "lin_rmse"
   ]
  },
  {
   "cell_type": "code",
   "execution_count": 14,
   "metadata": {},
   "outputs": [
    {
     "data": {
      "text/plain": [
       "6.865503479099464"
      ]
     },
     "execution_count": 14,
     "metadata": {},
     "output_type": "execute_result"
    }
   ],
   "source": [
    "# Also explore use of kernels...\n",
    "from sklearn.svm import SVR\n",
    "svm_poly_reg = SVR(kernel=\"poly\", degree=2, C=100, epsilon=0.1, gamma=\"scale\")\n",
    "svm_poly_reg.fit(bXtrain, bytrain)\n",
    "boston_poly_train_preds = svm_poly_reg.predict(bXtrain) # Check fit\n",
    "lin_mse = mean_squared_error(bytrain, boston_poly_train_preds)\n",
    "lin_rmse = np.sqrt(lin_mse)\n",
    "lin_rmse"
   ]
  },
  {
   "cell_type": "code",
   "execution_count": 15,
   "metadata": {},
   "outputs": [
    {
     "data": {
      "text/plain": [
       "5.675206928797443"
      ]
     },
     "execution_count": 15,
     "metadata": {},
     "output_type": "execute_result"
    }
   ],
   "source": [
    "# Check on test set\n",
    "boston_poly_test_preds = svm_poly_reg.predict(bXtest)\n",
    "lin_mse = mean_squared_error(bytest, boston_poly_test_preds)\n",
    "lin_rmse = np.sqrt(lin_mse)\n",
    "lin_rmse"
   ]
  },
  {
   "cell_type": "markdown",
   "metadata": {},
   "source": [
    "## Decision Trees\n",
    "\n",
    "### Decision Tree Classification"
   ]
  },
  {
   "cell_type": "code",
   "execution_count": 16,
   "metadata": {},
   "outputs": [
    {
     "data": {
      "text/plain": [
       "array([[14,  1,  0],\n",
       "       [ 0, 18,  0],\n",
       "       [ 1,  0, 11]])"
      ]
     },
     "execution_count": 16,
     "metadata": {},
     "output_type": "execute_result"
    }
   ],
   "source": [
    "wX, wy = datasets.load_wine(return_X_y=True)\n",
    "wX_train_set, wX_test_set, wy_train_set, wy_test_set = train_test_split(wX, wy, test_size=0.25, random_state=42)\n",
    "from sklearn.tree import DecisionTreeClassifier\n",
    "tree_clf = DecisionTreeClassifier(max_depth=7) # can explore depth and other parameters\n",
    "tree_clf.fit(wX_train_set, wy_train_set)\n",
    "wine_preds = tree_clf.predict(wX_test_set)\n",
    "confusion_matrix(wy_test_set, wine_preds)"
   ]
  },
  {
   "cell_type": "markdown",
   "metadata": {},
   "source": [
    "### Decision Tree Regression"
   ]
  },
  {
   "cell_type": "code",
   "execution_count": 17,
   "metadata": {},
   "outputs": [
    {
     "data": {
      "text/plain": [
       "1.9590746788623798"
      ]
     },
     "execution_count": 17,
     "metadata": {},
     "output_type": "execute_result"
    }
   ],
   "source": [
    "from sklearn.tree import DecisionTreeRegressor\n",
    "bX, by = datasets.load_boston(return_X_y=True)\n",
    "bXtrain, bXtest, bytrain, bytest = train_test_split(bX, by, test_size=0.2, random_state=42)\n",
    "tree_reg = DecisionTreeRegressor(min_samples_leaf=3) # explore min_samples = e.g. put to 1 to see what happens\n",
    "tree_reg.fit(bXtrain,bytrain)\n",
    "boston_tree_train_preds = tree_reg.predict(bXtrain) # Check fit\n",
    "lin_mse = mean_squared_error(bytrain, boston_tree_train_preds)\n",
    "lin_rmse = np.sqrt(lin_mse)\n",
    "lin_rmse"
   ]
  },
  {
   "cell_type": "code",
   "execution_count": 18,
   "metadata": {},
   "outputs": [
    {
     "data": {
      "text/plain": [
       "3.156743477783963"
      ]
     },
     "execution_count": 18,
     "metadata": {},
     "output_type": "execute_result"
    }
   ],
   "source": [
    "# Check on test set\n",
    "boston_tree_test_preds = tree_reg.predict(bXtest)\n",
    "lin_mse = mean_squared_error(bytest, boston_tree_test_preds)\n",
    "lin_rmse = np.sqrt(lin_mse)\n",
    "lin_rmse"
   ]
  }
 ],
 "metadata": {
  "kernelspec": {
   "display_name": "Python 3",
   "language": "python",
   "name": "python3"
  },
  "language_info": {
   "codemirror_mode": {
    "name": "ipython",
    "version": 3
   },
   "file_extension": ".py",
   "mimetype": "text/x-python",
   "name": "python",
   "nbconvert_exporter": "python",
   "pygments_lexer": "ipython3",
   "version": "3.8.5"
  }
 },
 "nbformat": 4,
 "nbformat_minor": 4
}
